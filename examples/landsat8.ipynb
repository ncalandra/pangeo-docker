{
 "cells": [
  {
   "cell_type": "code",
   "execution_count": null,
   "metadata": {},
   "outputs": [],
   "source": [
    "# Configure Dask Cluster\n",
    "from dask_gateway import Gateway\n",
    "gateway = Gateway(\n",
    "     \"http://a9e5f257a48ee11ea98031262d9f6c99-fe7a75363d0599a6.elb.us-east-1.amazonaws.com\",\n",
    "     proxy_address=\"tls://a9e5e36ac48ee11ea98031262d9f6c99-0e5bdfca23b2f6e8.elb.us-east-1.amazonaws.com:8786\",\n",
    "     auth=\"jupyterhub\",\n",
    ")\n",
    "cluster = gateway.new_cluster()\n",
    "cluster.scale(10)"
   ]
  },
  {
   "cell_type": "code",
   "execution_count": null,
   "metadata": {},
   "outputs": [],
   "source": [
    "cluster"
   ]
  },
  {
   "cell_type": "code",
   "execution_count": null,
   "metadata": {},
   "outputs": [],
   "source": [
    "# Get Dask Client\n",
    "client = cluster.get_client()\n",
    "client"
   ]
  },
  {
   "cell_type": "code",
   "execution_count": null,
   "metadata": {},
   "outputs": [],
   "source": [
    "# Import Libraries\n",
    "import os\n",
    "import xarray as xr\n",
    "from satsearch import Search"
   ]
  },
  {
   "cell_type": "code",
   "execution_count": null,
   "metadata": {},
   "outputs": [],
   "source": [
    "# Find Landsat8 Data\n",
    "search = Search.search(\n",
    "    collection='landsat-8-l1',\n",
    "    bbox=[-110, 39.5, -105, 40.5],\n",
    "    property=[\"eo:cloud_cover<50\", \"eo:row=033\", \"eo:column=037\"]\n",
    ")\n",
    "items = search.items()\n",
    "print(items.calendar())"
   ]
  },
  {
   "cell_type": "code",
   "execution_count": null,
   "metadata": {},
   "outputs": [],
   "source": [
    "# Build xarray object\n",
    "band_2s=[]\n",
    "band_3s=[]\n",
    "band_4s=[]\n",
    "band_5s=[]\n",
    "for item in items:\n",
    "    band_2 = f\"s3://landsat-pds{item.assets['B2']['href'][36:]}\"\n",
    "    band_3 = f\"s3://landsat-pds{item.assets['B3']['href'][36:]}\"\n",
    "    band_4 = f\"s3://landsat-pds{item.assets['B4']['href'][36:]}\"\n",
    "    band_5 = f\"s3://landsat-pds{item.assets['B5']['href'][36:]}\"\n",
    "    band_2ds = xr.open_rasterio(band_2, chunks={'x': 1000, 'y': 1000})\n",
    "    band_3ds = xr.open_rasterio(band_3, chunks={'x': 1000, 'y': 1000})\n",
    "    band_4ds = xr.open_rasterio(band_4, chunks={'x': 1000, 'y': 1000})\n",
    "    band_5ds = xr.open_rasterio(band_5, chunks={'x': 1000, 'y': 1000})\n",
    "\n",
    "    band_2ds = band_2ds.assign_coords(eoband=2)\n",
    "    band_2ds = band_2ds.assign_coords(time=item['datetime'])\n",
    "    band_2ds = band_2ds.expand_dims('time')\n",
    "    band_2ds = band_2ds.expand_dims('eoband')\n",
    "\n",
    "    band_3ds = band_3ds.assign_coords(eoband=3)\n",
    "    band_3ds = band_3ds.assign_coords(time=item['datetime'])\n",
    "    band_3ds = band_3ds.expand_dims('time')\n",
    "    band_3ds = band_3ds.expand_dims('eoband')\n",
    "    \n",
    "    band_4ds = band_4ds.assign_coords(eoband=4)\n",
    "    band_4ds = band_4ds.assign_coords(time=item['datetime'])\n",
    "    band_4ds = band_4ds.expand_dims('time')\n",
    "    band_4ds = band_4ds.expand_dims('eoband')\n",
    "    \n",
    "    band_5ds = band_5ds.assign_coords(eoband=5)\n",
    "    band_5ds = band_5ds.assign_coords(time=item['datetime'])\n",
    "    band_5ds = band_5ds.expand_dims('time')\n",
    "    band_5ds = band_5ds.expand_dims('eoband')\n",
    "    \n",
    "    band_2s.append(band_2ds)\n",
    "    band_3s.append(band_3ds)\n",
    "    band_4s.append(band_4ds)\n",
    "    band_5s.append(band_5ds)\n",
    "\n",
    "band_2ds = xr.concat(band_2s, 'time')\n",
    "band_3ds = xr.concat(band_3s, 'time')\n",
    "band_4ds = xr.concat(band_4s, 'time')\n",
    "band_5ds = xr.concat(band_5s, 'time')\n",
    "\n",
    "ds = xr.concat([band_2ds, band_3ds, band_4ds, band_5ds], 'eoband')\n",
    "ds.data"
   ]
  },
  {
   "cell_type": "code",
   "execution_count": null,
   "metadata": {},
   "outputs": [],
   "source": [
    "# Plot one timestep of band 4\n",
    "ds.sel(eoband=4, time='2019-05-02T18:01:51.125149+00:00', band=1).data\n",
    "%time ds.sel(eoband=4, time='2019-05-02T18:01:51.125149+00:00', band=1).plot.imshow()"
   ]
  },
  {
   "cell_type": "code",
   "execution_count": null,
   "metadata": {},
   "outputs": [],
   "source": [
    "# Plot mean of band 4\n",
    "ds.sel(eoband=4, band=1).data\n",
    "%time ds.sel(eoband=4, band=1).mean('time').plot.imshow()"
   ]
  },
  {
   "cell_type": "code",
   "execution_count": null,
   "metadata": {},
   "outputs": [],
   "source": [
    "# Calculate NDVI for one timestep\n",
    "time = '2019-05-02T18:01:51.125149+00:00'\n",
    "\n",
    "band_4_ds = ds.sel(eoband=4, time=time, band=1)\n",
    "band_5_ds = ds.sel(eoband=5, time=time, band=1)"
   ]
  },
  {
   "cell_type": "code",
   "execution_count": null,
   "metadata": {},
   "outputs": [],
   "source": [
    "%time NDVI = (band_5_ds - band_4_ds) / (band_5_ds + band_4_ds)\n",
    "NDVI.data"
   ]
  },
  {
   "cell_type": "code",
   "execution_count": null,
   "metadata": {},
   "outputs": [],
   "source": [
    "%time NDVI.plot.imshow()"
   ]
  },
  {
   "cell_type": "code",
   "execution_count": null,
   "metadata": {},
   "outputs": [],
   "source": [
    "# Calculate mean NDVI\n",
    "band_4_ds = ds.sel(eoband=4, band=1)\n",
    "band_5_ds = ds.sel(eoband=5, band=1)"
   ]
  },
  {
   "cell_type": "code",
   "execution_count": null,
   "metadata": {},
   "outputs": [],
   "source": [
    "%time NDVI = (band_5_ds - band_4_ds) / (band_5_ds + band_4_ds)\n",
    "NDVI.data"
   ]
  },
  {
   "cell_type": "code",
   "execution_count": null,
   "metadata": {},
   "outputs": [],
   "source": [
    "%time NDVI.mean('time').plot.imshow()"
   ]
  }
 ],
 "metadata": {
  "kernelspec": {
   "display_name": "Python 3",
   "language": "python",
   "name": "python3"
  },
  "language_info": {
   "codemirror_mode": {
    "name": "ipython",
    "version": 3
   },
   "file_extension": ".py",
   "mimetype": "text/x-python",
   "name": "python",
   "nbconvert_exporter": "python",
   "pygments_lexer": "ipython3",
   "version": "3.7.4"
  }
 },
 "nbformat": 4,
 "nbformat_minor": 4
}
